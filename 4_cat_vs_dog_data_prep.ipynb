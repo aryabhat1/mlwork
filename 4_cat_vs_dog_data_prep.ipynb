{
  "nbformat": 4,
  "nbformat_minor": 0,
  "metadata": {
    "anaconda-cloud": {},
    "kernelspec": {
      "display_name": "Python 3",
      "language": "python",
      "name": "python3"
    },
    "language_info": {
      "codemirror_mode": {
        "name": "ipython",
        "version": 3
      },
      "file_extension": ".py",
      "mimetype": "text/x-python",
      "name": "python",
      "nbconvert_exporter": "python",
      "pygments_lexer": "ipython3",
      "version": "3.6.1"
    },
    "colab": {
      "name": "4_cat_vs_dog_data_prep.ipynb",
      "provenance": [],
      "collapsed_sections": [],
      "toc_visible": true,
      "machine_shape": "hm",
      "include_colab_link": true
    }
  },
  "cells": [
    {
      "cell_type": "markdown",
      "metadata": {
        "id": "view-in-github",
        "colab_type": "text"
      },
      "source": [
        "<a href=\"https://colab.research.google.com/github/aryabhat1/mlwork/blob/master/4_cat_vs_dog_data_prep.ipynb\" target=\"_parent\"><img src=\"https://colab.research.google.com/assets/colab-badge.svg\" alt=\"Open In Colab\"/></a>"
      ]
    },
    {
      "cell_type": "code",
      "metadata": {
        "id": "CM-aiR5wntzP",
        "colab_type": "code",
        "colab": {}
      },
      "source": [
        "import os\n",
        "import shutil\n",
        "\n",
        "work_dir = '/content'\n",
        "image_names = sorted(os.listdir(os.path.join(work_dir, 'mydata')))\n",
        "\n",
        "\n",
        "def copy_files(prefix_str, range_start, range_end, target_dir):\n",
        "    image_paths = [os.path.join(work_dir, 'mydata', prefix_str + '.' + str(i) + '.jpg')\n",
        "                   for i in range(range_start, range_end)]\n",
        "    dest_dir = os.path.join(work_dir, 'data', target_dir, prefix_str)\n",
        "    os.makedirs(dest_dir)\n",
        "    for image_path in image_paths:\n",
        "        shutil.copy(image_path, dest_dir)\n",
        "\n",
        "\n",
        "copy_files('dog', 0, 210, 'train')\n",
        "copy_files('cat', 0, 210, 'train')\n",
        "copy_files('dog', 211, 300, 'test')\n",
        "copy_files('cat', 211, 300, 'test')\n"
      ],
      "execution_count": 0,
      "outputs": []
    },
    {
      "cell_type": "code",
      "metadata": {
        "id": "bt6DoCn0wIHs",
        "colab_type": "code",
        "outputId": "92051546-9acc-4877-f239-555643899d08",
        "colab": {
          "base_uri": "https://localhost:8080/",
          "height": 80
        }
      },
      "source": [
        "import tensorflow as tf\n",
        "import numpy as np"
      ],
      "execution_count": 11,
      "outputs": [
        {
          "output_type": "display_data",
          "data": {
            "text/html": [
              "<p style=\"color: red;\">\n",
              "The default version of TensorFlow in Colab will soon switch to TensorFlow 2.x.<br>\n",
              "We recommend you <a href=\"https://www.tensorflow.org/guide/migrate\" target=\"_blank\">upgrade</a> now \n",
              "or ensure your notebook will continue to use TensorFlow 1.x via the <code>%tensorflow_version 1.x</code> magic:\n",
              "<a href=\"https://colab.research.google.com/notebooks/tensorflow_version.ipynb\" target=\"_blank\">more info</a>.</p>\n"
            ],
            "text/plain": [
              "<IPython.core.display.HTML object>"
            ]
          },
          "metadata": {
            "tags": []
          }
        }
      ]
    },
    {
      "cell_type": "code",
      "metadata": {
        "id": "H8l3d7Zmo5im",
        "colab_type": "code",
        "colab": {}
      },
      "source": [
        "image_height, image_width = 150, 150\n",
        "train_dir = os.path.join(work_dir, 'data/train')\n",
        "test_dir = os.path.join(work_dir, 'data/test')\n",
        "no_classes = 2\n",
        "no_validation = 80\n",
        "epochs = 2\n",
        "batch_size = 20\n",
        "no_train = 200\n",
        "no_test = 80\n",
        "input_shape = (image_height, image_width, 3)\n",
        "epoch_steps = no_train // batch_size\n",
        "test_steps = no_test // batch_size"
      ],
      "execution_count": 0,
      "outputs": []
    },
    {
      "cell_type": "code",
      "metadata": {
        "id": "hQnestgNv3mN",
        "colab_type": "code",
        "outputId": "7845afc7-858d-4447-b268-d07cee04af9b",
        "colab": {
          "base_uri": "https://localhost:8080/",
          "height": 241
        }
      },
      "source": [
        "def simple_cnn(input_shape):\n",
        "    model = tf.keras.models.Sequential()\n",
        "    model.add(tf.keras.layers.Conv2D(\n",
        "        filters=64,\n",
        "        kernel_size=(3, 3),\n",
        "        activation='relu',\n",
        "        input_shape=input_shape\n",
        "    ))\n",
        "    model.add(tf.keras.layers.Conv2D(\n",
        "        filters=128,\n",
        "        kernel_size=(3, 3),\n",
        "        activation='relu'\n",
        "    ))\n",
        "    model.add(tf.keras.layers.MaxPooling2D(pool_size=(2, 2)))\n",
        "    model.add(tf.keras.layers.Dropout(rate=0.3))\n",
        "    model.add(tf.keras.layers.Flatten())\n",
        "    model.add(tf.keras.layers.Dense(units=1024, activation='relu'))\n",
        "    model.add(tf.keras.layers.Dropout(rate=0.3))\n",
        "    model.add(tf.keras.layers.Dense(units=no_classes, activation='softmax'))\n",
        "    model.compile(loss=tf.keras.losses.categorical_crossentropy,\n",
        "                  optimizer=tf.keras.optimizers.Adam(),\n",
        "                  metrics=['accuracy'])\n",
        "    return model\n",
        "\n",
        "simple_cnn_model = simple_cnn(input_shape)\n",
        "\n",
        "generator_train = tf.keras.preprocessing.image.ImageDataGenerator(rescale=1. / 255)\n",
        "generator_test = tf.keras.preprocessing.image.ImageDataGenerator(rescale=1. / 255)\n",
        "\n",
        "train_images = generator_train.flow_from_directory(\n",
        "    train_dir,\n",
        "    batch_size=batch_size,\n",
        "    target_size=(image_width, image_height))\n",
        "\n",
        "test_images = generator_test.flow_from_directory(\n",
        "    test_dir,\n",
        "    batch_size=batch_size,\n",
        "    target_size=(image_width, image_height))\n",
        "\n",
        "simple_cnn_model.fit_generator(\n",
        "    train_images,\n",
        "    steps_per_epoch=epoch_steps,\n",
        "    epochs=epochs,\n",
        "    validation_data=test_images,\n",
        "    validation_steps=test_steps)\n"
      ],
      "execution_count": 13,
      "outputs": [
        {
          "output_type": "stream",
          "text": [
            "WARNING:tensorflow:From /usr/local/lib/python3.6/dist-packages/tensorflow_core/python/ops/resource_variable_ops.py:1630: calling BaseResourceVariable.__init__ (from tensorflow.python.ops.resource_variable_ops) with constraint is deprecated and will be removed in a future version.\n",
            "Instructions for updating:\n",
            "If using Keras pass *_constraint arguments to layers.\n",
            "Found 420 images belonging to 2 classes.\n",
            "Found 178 images belonging to 2 classes.\n",
            "Epoch 1/2\n",
            " 9/10 [==========================>...] - ETA: 7s - loss: 29.9961 - acc: 0.5667 Epoch 1/2\n",
            "10/10 [==============================] - 77s 8s/step - loss: 27.0758 - acc: 0.5550 - val_loss: 0.7178 - val_acc: 0.4875\n",
            "Epoch 2/2\n",
            " 9/10 [==========================>...] - ETA: 5s - loss: 0.6990 - acc: 0.5056 Epoch 1/2\n",
            "10/10 [==============================] - 57s 6s/step - loss: 0.6983 - acc: 0.5050 - val_loss: 0.6920 - val_acc: 0.5250\n"
          ],
          "name": "stdout"
        },
        {
          "output_type": "execute_result",
          "data": {
            "text/plain": [
              "<tensorflow.python.keras.callbacks.History at 0x7ffa31db2780>"
            ]
          },
          "metadata": {
            "tags": []
          },
          "execution_count": 13
        }
      ]
    }
  ]
}